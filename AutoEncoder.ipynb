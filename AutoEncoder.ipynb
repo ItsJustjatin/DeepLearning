{
  "nbformat": 4,
  "nbformat_minor": 0,
  "metadata": {
    "colab": {
      "provenance": [],
      "gpuType": "V28"
    },
    "kernelspec": {
      "name": "python3",
      "display_name": "Python 3"
    },
    "language_info": {
      "name": "python"
    },
    "accelerator": "TPU"
  },
  "cells": [
    {
      "cell_type": "code",
      "execution_count": null,
      "metadata": {
        "id": "Qxv47t9eqWmJ"
      },
      "outputs": [],
      "source": [
        "import numpy as np\n",
        "import tensorflow as tf\n",
        "from tensorflow.keras.layers import Input, Dense\n",
        "from tensorflow.keras.models import Model\n",
        "import matplotlib.pyplot as plt"
      ]
    },
    {
      "cell_type": "code",
      "source": [
        "# Load and preprocess the MNIST dataset\n",
        "from tensorflow.keras.datasets import mnist\n",
        "\n",
        "(x_train, _), (x_test, _) = mnist.load_data()\n",
        "x_train = x_train.astype('float32') / 255.  # Normalize to [0, 1]\n",
        "x_test = x_test.astype('float32') / 255."
      ],
      "metadata": {
        "id": "Y5RU2ObVryx-",
        "colab": {
          "base_uri": "https://localhost:8080/"
        },
        "outputId": "4c5b9d61-8e70-4874-9296-82c66b347ed3"
      },
      "execution_count": null,
      "outputs": [
        {
          "output_type": "stream",
          "name": "stdout",
          "text": [
            "Downloading data from https://storage.googleapis.com/tensorflow/tf-keras-datasets/mnist.npz\n",
            "11490434/11490434 [==============================] - 0s 0us/step\n"
          ]
        }
      ]
    },
    {
      "cell_type": "markdown",
      "source": [
        "DENSE AUTOENCODER\n"
      ],
      "metadata": {
        "id": "IYjh8B2R_HM4"
      }
    },
    {
      "cell_type": "code",
      "source": [
        "#Define : input_size, hidden_size, output_size # Input and output should be same\n",
        "# input_size (784) > hidden (32) < output_size (784)\n",
        "\n",
        "input_size = 784 # Define input_size\n",
        "hidden_size = 32  # Define hidden_size\n",
        "output_size = 784 # Define output_size\n",
        "\n",
        "x = Input(shape=(input_size,))\n",
        "\n",
        "# Encoder with multiple hidden layers\n",
        "h = Dense(128, activation='relu')(x)  # Layer 1\n",
        "h = Dense(64, activation='relu')(h)   # Layer 2\n",
        "h = Dense(32, activation='relu')(h)   # Bottleneck\n",
        "\n",
        "# Decoder with symmetric layers\n",
        "r = Dense(64, activation='relu')(h)   # Layer 1\n",
        "r = Dense(128, activation='relu')(r)  # Layer 2\n",
        "r = Dense(output_size, activation='sigmoid')(r)  # Output Layer\n",
        "\n",
        "# Create autoencoder model\n",
        "autoencoder = Model(inputs=x, outputs=r)\n",
        "autoencoder.compile(optimizer='adam', loss='mse')"
      ],
      "metadata": {
        "id": "jiQGDyhAr1-5"
      },
      "execution_count": null,
      "outputs": []
    },
    {
      "cell_type": "code",
      "source": [
        "# Reshape input data for dense autoencoder\n",
        "x_train_flat = x_train.reshape(-1, input_size)\n",
        "x_test_flat = x_test.reshape(-1, input_size)\n"
      ],
      "metadata": {
        "id": "kAAZXjAyxWtz"
      },
      "execution_count": null,
      "outputs": []
    },
    {
      "cell_type": "code",
      "source": [
        "# Train the dense autoencoder\n",
        "history = autoencoder.fit(\n",
        "    x_train_flat, x_train_flat,\n",
        "    epochs=50,\n",
        "    batch_size=128,\n",
        "    shuffle=True,\n",
        "    validation_data=(x_test_flat, x_test_flat)\n",
        ")"
      ],
      "metadata": {
        "colab": {
          "base_uri": "https://localhost:8080/"
        },
        "id": "QvHLdcWQwbTO",
        "outputId": "700040db-a4e3-49d0-e0f5-3a9ab2f939ac"
      },
      "execution_count": null,
      "outputs": [
        {
          "output_type": "stream",
          "name": "stdout",
          "text": [
            "Epoch 1/50\n",
            "469/469 [==============================] - 4s 6ms/step - loss: 0.0488 - val_loss: 0.0278\n",
            "Epoch 2/50\n",
            "469/469 [==============================] - 3s 6ms/step - loss: 0.0240 - val_loss: 0.0203\n",
            "Epoch 3/50\n",
            "469/469 [==============================] - 3s 6ms/step - loss: 0.0190 - val_loss: 0.0172\n",
            "Epoch 4/50\n",
            "469/469 [==============================] - 3s 6ms/step - loss: 0.0165 - val_loss: 0.0152\n",
            "Epoch 5/50\n",
            "469/469 [==============================] - 3s 6ms/step - loss: 0.0148 - val_loss: 0.0136\n",
            "Epoch 6/50\n",
            "469/469 [==============================] - 3s 6ms/step - loss: 0.0135 - val_loss: 0.0126\n",
            "Epoch 7/50\n",
            "469/469 [==============================] - 3s 6ms/step - loss: 0.0125 - val_loss: 0.0118\n",
            "Epoch 8/50\n",
            "469/469 [==============================] - 3s 6ms/step - loss: 0.0117 - val_loss: 0.0111\n",
            "Epoch 9/50\n",
            "469/469 [==============================] - 3s 6ms/step - loss: 0.0111 - val_loss: 0.0107\n",
            "Epoch 10/50\n",
            "469/469 [==============================] - 3s 6ms/step - loss: 0.0106 - val_loss: 0.0102\n",
            "Epoch 11/50\n",
            "469/469 [==============================] - 3s 6ms/step - loss: 0.0102 - val_loss: 0.0098\n",
            "Epoch 12/50\n",
            "469/469 [==============================] - 3s 6ms/step - loss: 0.0099 - val_loss: 0.0095\n",
            "Epoch 13/50\n",
            "469/469 [==============================] - 3s 6ms/step - loss: 0.0096 - val_loss: 0.0094\n",
            "Epoch 14/50\n",
            "469/469 [==============================] - 3s 6ms/step - loss: 0.0094 - val_loss: 0.0090\n",
            "Epoch 15/50\n",
            "469/469 [==============================] - 3s 6ms/step - loss: 0.0091 - val_loss: 0.0089\n",
            "Epoch 16/50\n",
            "469/469 [==============================] - 3s 6ms/step - loss: 0.0089 - val_loss: 0.0085\n",
            "Epoch 17/50\n",
            "469/469 [==============================] - 3s 6ms/step - loss: 0.0087 - val_loss: 0.0085\n",
            "Epoch 18/50\n",
            "469/469 [==============================] - 3s 6ms/step - loss: 0.0086 - val_loss: 0.0083\n",
            "Epoch 19/50\n",
            "469/469 [==============================] - 3s 6ms/step - loss: 0.0084 - val_loss: 0.0082\n",
            "Epoch 20/50\n",
            "469/469 [==============================] - 3s 6ms/step - loss: 0.0083 - val_loss: 0.0082\n",
            "Epoch 21/50\n",
            "469/469 [==============================] - 3s 6ms/step - loss: 0.0082 - val_loss: 0.0082\n",
            "Epoch 22/50\n",
            "469/469 [==============================] - 3s 6ms/step - loss: 0.0081 - val_loss: 0.0080\n",
            "Epoch 23/50\n",
            "469/469 [==============================] - 3s 6ms/step - loss: 0.0080 - val_loss: 0.0078\n",
            "Epoch 24/50\n",
            "469/469 [==============================] - 3s 6ms/step - loss: 0.0079 - val_loss: 0.0078\n",
            "Epoch 25/50\n",
            "469/469 [==============================] - 3s 6ms/step - loss: 0.0079 - val_loss: 0.0078\n",
            "Epoch 26/50\n",
            "469/469 [==============================] - 3s 6ms/step - loss: 0.0078 - val_loss: 0.0076\n",
            "Epoch 27/50\n",
            "469/469 [==============================] - 3s 6ms/step - loss: 0.0077 - val_loss: 0.0077\n",
            "Epoch 28/50\n",
            "469/469 [==============================] - 3s 6ms/step - loss: 0.0076 - val_loss: 0.0075\n",
            "Epoch 29/50\n",
            "469/469 [==============================] - 3s 6ms/step - loss: 0.0076 - val_loss: 0.0076\n",
            "Epoch 30/50\n",
            "469/469 [==============================] - 3s 6ms/step - loss: 0.0075 - val_loss: 0.0075\n",
            "Epoch 31/50\n",
            "469/469 [==============================] - 3s 6ms/step - loss: 0.0075 - val_loss: 0.0074\n",
            "Epoch 32/50\n",
            "469/469 [==============================] - 3s 6ms/step - loss: 0.0074 - val_loss: 0.0073\n",
            "Epoch 33/50\n",
            "469/469 [==============================] - 3s 6ms/step - loss: 0.0074 - val_loss: 0.0073\n",
            "Epoch 34/50\n",
            "469/469 [==============================] - 3s 6ms/step - loss: 0.0073 - val_loss: 0.0073\n",
            "Epoch 35/50\n",
            "469/469 [==============================] - 3s 6ms/step - loss: 0.0073 - val_loss: 0.0073\n",
            "Epoch 36/50\n",
            "469/469 [==============================] - 3s 6ms/step - loss: 0.0072 - val_loss: 0.0073\n",
            "Epoch 37/50\n",
            "469/469 [==============================] - 3s 6ms/step - loss: 0.0072 - val_loss: 0.0072\n",
            "Epoch 38/50\n",
            "469/469 [==============================] - 3s 6ms/step - loss: 0.0072 - val_loss: 0.0071\n",
            "Epoch 39/50\n",
            "469/469 [==============================] - 3s 6ms/step - loss: 0.0072 - val_loss: 0.0070\n",
            "Epoch 40/50\n",
            "469/469 [==============================] - 3s 6ms/step - loss: 0.0071 - val_loss: 0.0072\n",
            "Epoch 41/50\n",
            "469/469 [==============================] - 3s 6ms/step - loss: 0.0071 - val_loss: 0.0072\n",
            "Epoch 42/50\n",
            "469/469 [==============================] - 3s 6ms/step - loss: 0.0071 - val_loss: 0.0070\n",
            "Epoch 43/50\n",
            "469/469 [==============================] - 3s 6ms/step - loss: 0.0070 - val_loss: 0.0070\n",
            "Epoch 44/50\n",
            "469/469 [==============================] - 3s 6ms/step - loss: 0.0070 - val_loss: 0.0070\n",
            "Epoch 45/50\n",
            "469/469 [==============================] - 3s 6ms/step - loss: 0.0070 - val_loss: 0.0070\n",
            "Epoch 46/50\n",
            "469/469 [==============================] - 3s 6ms/step - loss: 0.0069 - val_loss: 0.0069\n",
            "Epoch 47/50\n",
            "469/469 [==============================] - 3s 6ms/step - loss: 0.0069 - val_loss: 0.0069\n",
            "Epoch 48/50\n",
            "469/469 [==============================] - 3s 6ms/step - loss: 0.0069 - val_loss: 0.0069\n",
            "Epoch 49/50\n",
            "469/469 [==============================] - 3s 6ms/step - loss: 0.0069 - val_loss: 0.0069\n",
            "Epoch 50/50\n",
            "469/469 [==============================] - 3s 6ms/step - loss: 0.0068 - val_loss: 0.0069\n"
          ]
        }
      ]
    },
    {
      "cell_type": "code",
      "source": [
        "autoencoder.summary()"
      ],
      "metadata": {
        "colab": {
          "base_uri": "https://localhost:8080/"
        },
        "id": "V9EgVlFs5LnS",
        "outputId": "b617d0c9-dc38-4fff-dbbc-259968ab1046"
      },
      "execution_count": null,
      "outputs": [
        {
          "output_type": "stream",
          "name": "stdout",
          "text": [
            "Model: \"model\"\n",
            "_________________________________________________________________\n",
            " Layer (type)                Output Shape              Param #   \n",
            "=================================================================\n",
            " input_1 (InputLayer)        [(None, 784)]             0         \n",
            "                                                                 \n",
            " dense (Dense)               (None, 128)               100480    \n",
            "                                                                 \n",
            " dense_1 (Dense)             (None, 64)                8256      \n",
            "                                                                 \n",
            " dense_2 (Dense)             (None, 32)                2080      \n",
            "                                                                 \n",
            " dense_3 (Dense)             (None, 64)                2112      \n",
            "                                                                 \n",
            " dense_4 (Dense)             (None, 128)               8320      \n",
            "                                                                 \n",
            " dense_5 (Dense)             (None, 784)               101136    \n",
            "                                                                 \n",
            "=================================================================\n",
            "Total params: 222384 (868.69 KB)\n",
            "Trainable params: 222384 (868.69 KB)\n",
            "Non-trainable params: 0 (0.00 Byte)\n",
            "_________________________________________________________________\n"
          ]
        }
      ]
    },
    {
      "cell_type": "code",
      "source": [
        "### PLOT TRAINING HISTORY ###\n",
        "\n",
        "def plot_loss(history):\n",
        "    plt.plot(history.history['loss'], label='Training Loss')\n",
        "    plt.plot(history.history['val_loss'], label='Validation Loss')\n",
        "    plt.xlabel('Epoch')\n",
        "    plt.ylabel('Loss')\n",
        "    plt.legend()\n",
        "    plt.show()\n",
        "\n",
        "plot_loss(history)"
      ],
      "metadata": {
        "colab": {
          "base_uri": "https://localhost:8080/",
          "height": 449
        },
        "id": "lqcSbdjx6ZXf",
        "outputId": "858d2b3c-5d22-44f4-a4c0-c27d2d66c1a9"
      },
      "execution_count": null,
      "outputs": [
        {
          "output_type": "display_data",
          "data": {
            "text/plain": [
              "<Figure size 640x480 with 1 Axes>"
            ],
            "image/png": "[encoded data removed]"
          },
          "metadata": {}
        }
      ]
    },
    {
      "cell_type": "code",
      "source": [
        "# Evaluate the model on test data\n",
        "test_loss = autoencoder.evaluate(x_test_flat, x_test_flat)\n",
        "print(f\"Test Loss: {test_loss:.4f}\")"
      ],
      "metadata": {
        "colab": {
          "base_uri": "https://localhost:8080/"
        },
        "id": "9XyPnijN7Ezl",
        "outputId": "15adc5f3-59cd-4440-97c2-1ece5c3162ae"
      },
      "execution_count": null,
      "outputs": [
        {
          "output_type": "stream",
          "name": "stdout",
          "text": [
            "313/313 [==============================] - 1s 2ms/step - loss: 0.0069\n",
            "Test Loss: 0.0069\n"
          ]
        }
      ]
    },
    {
      "cell_type": "code",
      "source": [
        "### VISUALIZE RECONSTRUCTION RESULTS ###\n",
        "\n",
        "# Select some test images to visualize reconstruction\n",
        "num_images = 10\n",
        "random_indices = np.random.randint(x_test.shape[0], size=num_images)\n",
        "original_images = x_test[random_indices]\n",
        "original_images_flat = original_images.reshape(-1, input_size)\n",
        "\n",
        "# Predict the reconstructed images\n",
        "reconstructed_images_flat = autoencoder.predict(original_images_flat)\n",
        "reconstructed_images = reconstructed_images_flat.reshape(-1, 28, 28)\n",
        "\n",
        "# Plot original and reconstructed images side by side\n",
        "def plot_reconstructed_images(original, reconstructed, num_images=10):\n",
        "    plt.figure(figsize=(20, 4))\n",
        "    for i in range(num_images):\n",
        "        # Original Image\n",
        "        ax = plt.subplot(2, num_images, i + 1)\n",
        "        plt.imshow(original[i], cmap='gray')\n",
        "        plt.axis('off')\n",
        "\n",
        "        # Reconstructed Image\n",
        "        ax = plt.subplot(2, num_images, i + 1 + num_images)\n",
        "        plt.imshow(reconstructed[i], cmap='gray')\n",
        "        plt.axis('off')\n",
        "    plt.show()\n",
        "\n",
        "plot_reconstructed_images(original_images, reconstructed_images)"
      ],
      "metadata": {
        "colab": {
          "base_uri": "https://localhost:8080/",
          "height": 209
        },
        "id": "VDmaTm-37Zc_",
        "outputId": "079c46f8-f908-4b2d-f800-e8dffe22f110"
      },
      "execution_count": null,
      "outputs": [
        {
          "output_type": "stream",
          "name": "stdout",
          "text": [
            "1/1 [==============================] - 0s 99ms/step\n"
          ]
        },
        {
          "output_type": "display_data",
          "data": {
            "text/plain": [
              "<Figure size 2000x400 with 20 Axes>"
            ],
            "image/png": "[encoded data removed]"
          },
          "metadata": {}
        }
      ]
    },
    {
      "cell_type": "markdown",
      "source": [
        "CONVOLUTIONAL AUTOENCODER"
      ],
      "metadata": {
        "id": "26A68yEt_P5F"
      }
    },
    {
      "cell_type": "code",
      "source": [
        "from tensorflow.keras.layers import Input, Conv2D, BatchNormalization, Flatten, Dense, Reshape, Conv2DTranspose\n",
        "from tensorflow.keras.models import Model"
      ],
      "metadata": {
        "id": "5Lh1Y4X5dQJr"
      },
      "execution_count": null,
      "outputs": []
    },
    {
      "cell_type": "code",
      "source": [
        "x = Input(shape=(28, 28,1))\n",
        "# Encoder\n",
        "def encoder(input_layer):\n",
        "    x = Conv2D(32, (3, 3), activation='relu', padding='same')(input_layer) # Indented this line and subsequent lines within the function\n",
        "    x = BatchNormalization()(x)\n",
        "    x = Conv2D(64, (3, 3), activation='relu', padding='same', strides=(2, 2))(x)\n",
        "    x = BatchNormalization()(x)\n",
        "    x = Conv2D(128, (3, 3), activation='relu', padding='same', strides=(2, 2))(x)\n",
        "    x = BatchNormalization()(x)\n",
        "    x = Flatten()(x)\n",
        "    x = Dense(64, activation='relu')(x) # Bottleneck layer\n",
        "    return x"
      ],
      "metadata": {
        "id": "PmoZKlj-_WWX"
      },
      "execution_count": null,
      "outputs": []
    },
    {
      "cell_type": "code",
      "source": [
        "# Decoder\n",
        "def decoder(encoded_input):\n",
        "    x = Dense(7 * 7 * 128, activation='relu')(encoded_input)\n",
        "    x = Reshape((7, 7, 128))(x) # The reshape operation is applied to the output of the Dense layer\n",
        "    x = Conv2DTranspose(128, (3, 3), activation='relu', padding='same')(x)\n",
        "    x = BatchNormalization()(x)\n",
        "    x = Conv2DTranspose(64, (3, 3), activation='relu', padding='same', strides=(2, 2))(x)\n",
        "    x = BatchNormalization()(x)\n",
        "    x = Conv2DTranspose(32, (3, 3), activation='relu', padding='same', strides=(2, 2))(x)\n",
        "    x = BatchNormalization()(x)\n",
        "    x = Conv2DTranspose(1, (3, 3), activation='sigmoid', padding='same')(x)\n",
        "    return x"
      ],
      "metadata": {
        "id": "ALAZL6zr_03u"
      },
      "execution_count": null,
      "outputs": []
    },
    {
      "cell_type": "code",
      "source": [
        "# Define input_shape\n",
        "input_shape = (28, 28, 1) # Assuming grayscale images"
      ],
      "metadata": {
        "id": "Fp62RevldIjg"
      },
      "execution_count": null,
      "outputs": []
    },
    {
      "cell_type": "code",
      "source": [
        "# Build the Autoencoder model\n",
        "input_layer = Input(shape=input_shape)\n",
        "encoded = encoder(input_layer)\n",
        "decoded = decoder(encoded)\n",
        "autoencoder = Model(input_layer, decoded)\n",
        "autoencoder.compile(optimizer='adam', loss='mse')"
      ],
      "metadata": {
        "id": "X_A6QJTyALTm"
      },
      "execution_count": null,
      "outputs": []
    },
    {
      "cell_type": "code",
      "source": [
        "# Summary of the model\n",
        "autoencoder.summary()"
      ],
      "metadata": {
        "colab": {
          "base_uri": "https://localhost:8080/"
        },
        "id": "VFvfsiVTAOWc",
        "outputId": "7449bae8-5f91-4bad-b243-59542cf97ae3"
      },
      "execution_count": null,
      "outputs": [
        {
          "output_type": "stream",
          "name": "stdout",
          "text": [
            "Model: \"model_1\"\n",
            "_________________________________________________________________\n",
            " Layer (type)                Output Shape              Param #   \n",
            "=================================================================\n",
            " input_5 (InputLayer)        [(None, 28, 28, 1)]       0         \n",
            "                                                                 \n",
            " conv2d (Conv2D)             (None, 28, 28, 32)        320       \n",
            "                                                                 \n",
            " batch_normalization (Batch  (None, 28, 28, 32)        128       \n",
            " Normalization)                                                  \n",
            "                                                                 \n",
            " conv2d_1 (Conv2D)           (None, 14, 14, 64)        18496     \n",
            "                                                                 \n",
            " batch_normalization_1 (Bat  (None, 14, 14, 64)        256       \n",
            " chNormalization)                                                \n",
            "                                                                 \n",
            " conv2d_2 (Conv2D)           (None, 7, 7, 128)         73856     \n",
            "                                                                 \n",
            " batch_normalization_2 (Bat  (None, 7, 7, 128)         512       \n",
            " chNormalization)                                                \n",
            "                                                                 \n",
            " flatten (Flatten)           (None, 6272)              0         \n",
            "                                                                 \n",
            " dense_6 (Dense)             (None, 64)                401472    \n",
            "                                                                 \n",
            " dense_7 (Dense)             (None, 6272)              407680    \n",
            "                                                                 \n",
            " reshape (Reshape)           (None, 7, 7, 128)         0         \n",
            "                                                                 \n",
            " conv2d_transpose (Conv2DTr  (None, 7, 7, 128)         147584    \n",
            " anspose)                                                        \n",
            "                                                                 \n",
            " batch_normalization_3 (Bat  (None, 7, 7, 128)         512       \n",
            " chNormalization)                                                \n",
            "                                                                 \n",
            " conv2d_transpose_1 (Conv2D  (None, 14, 14, 64)        73792     \n",
            " Transpose)                                                      \n",
            "                                                                 \n",
            " batch_normalization_4 (Bat  (None, 14, 14, 64)        256       \n",
            " chNormalization)                                                \n",
            "                                                                 \n",
            " conv2d_transpose_2 (Conv2D  (None, 28, 28, 32)        18464     \n",
            " Transpose)                                                      \n",
            "                                                                 \n",
            " batch_normalization_5 (Bat  (None, 28, 28, 32)        128       \n",
            " chNormalization)                                                \n",
            "                                                                 \n",
            " conv2d_transpose_3 (Conv2D  (None, 28, 28, 1)         289       \n",
            " Transpose)                                                      \n",
            "                                                                 \n",
            "=================================================================\n",
            "Total params: 1143745 (4.36 MB)\n",
            "Trainable params: 1142849 (4.36 MB)\n",
            "Non-trainable params: 896 (3.50 KB)\n",
            "_________________________________________________________________\n"
          ]
        }
      ]
    },
    {
      "cell_type": "code",
      "source": [
        "# Train the convolutional autoencoder\n",
        "history = autoencoder.fit(\n",
        "    x_train, x_train,\n",
        "    epochs=50,\n",
        "    batch_size=128,\n",
        "    shuffle=True,\n",
        "    validation_data=(x_test, x_test)\n",
        ")"
      ],
      "metadata": {
        "colab": {
          "base_uri": "https://localhost:8080/"
        },
        "id": "VpdL-mTsb1__",
        "outputId": "2eb54e4d-443c-4507-e21f-fc563f009776"
      },
      "execution_count": null,
      "outputs": [
        {
          "output_type": "stream",
          "name": "stdout",
          "text": [
            "Epoch 1/50\n",
            "469/469 [==============================] - 37s 74ms/step - loss: 0.0199 - val_loss: 0.0103\n",
            "Epoch 2/50\n",
            "469/469 [==============================] - 32s 69ms/step - loss: 0.0045 - val_loss: 0.0048\n",
            "Epoch 3/50\n",
            "469/469 [==============================] - 33s 69ms/step - loss: 0.0035 - val_loss: 0.0040\n",
            "Epoch 4/50\n",
            "469/469 [==============================] - 33s 70ms/step - loss: 0.0030 - val_loss: 0.0037\n",
            "Epoch 5/50\n",
            "469/469 [==============================] - 33s 71ms/step - loss: 0.0027 - val_loss: 0.0033\n",
            "Epoch 6/50\n",
            "469/469 [==============================] - 33s 71ms/step - loss: 0.0025 - val_loss: 0.0033\n",
            "Epoch 7/50\n",
            "469/469 [==============================] - 33s 70ms/step - loss: 0.0023 - val_loss: 0.0027\n",
            "Epoch 8/50\n",
            "469/469 [==============================] - 33s 70ms/step - loss: 0.0022 - val_loss: 0.0021\n",
            "Epoch 9/50\n",
            "469/469 [==============================] - 33s 69ms/step - loss: 0.0021 - val_loss: 0.0022\n",
            "Epoch 10/50\n",
            "469/469 [==============================] - 32s 69ms/step - loss: 0.0020 - val_loss: 0.0024\n",
            "Epoch 11/50\n",
            "469/469 [==============================] - 33s 70ms/step - loss: 0.0020 - val_loss: 0.0020\n",
            "Epoch 12/50\n",
            "469/469 [==============================] - 32s 69ms/step - loss: 0.0019 - val_loss: 0.0020\n",
            "Epoch 13/50\n",
            "469/469 [==============================] - 34s 72ms/step - loss: 0.0019 - val_loss: 0.0021\n",
            "Epoch 14/50\n",
            "469/469 [==============================] - 33s 70ms/step - loss: 0.0018 - val_loss: 0.0019\n",
            "Epoch 15/50\n",
            "469/469 [==============================] - 33s 71ms/step - loss: 0.0018 - val_loss: 0.0018\n",
            "Epoch 16/50\n",
            "469/469 [==============================] - 33s 70ms/step - loss: 0.0017 - val_loss: 0.0018\n",
            "Epoch 17/50\n",
            "469/469 [==============================] - 33s 70ms/step - loss: 0.0017 - val_loss: 0.0018\n",
            "Epoch 18/50\n",
            "469/469 [==============================] - 33s 69ms/step - loss: 0.0017 - val_loss: 0.0017\n",
            "Epoch 19/50\n",
            "469/469 [==============================] - 33s 70ms/step - loss: 0.0016 - val_loss: 0.0017\n",
            "Epoch 20/50\n",
            "469/469 [==============================] - 32s 68ms/step - loss: 0.0016 - val_loss: 0.0017\n",
            "Epoch 21/50\n",
            "469/469 [==============================] - 32s 68ms/step - loss: 0.0016 - val_loss: 0.0016\n",
            "Epoch 22/50\n",
            "469/469 [==============================] - 32s 69ms/step - loss: 0.0016 - val_loss: 0.0016\n",
            "Epoch 23/50\n",
            "469/469 [==============================] - 34s 71ms/step - loss: 0.0015 - val_loss: 0.0019\n",
            "Epoch 24/50\n",
            "469/469 [==============================] - 33s 71ms/step - loss: 0.0015 - val_loss: 0.0017\n",
            "Epoch 25/50\n",
            "469/469 [==============================] - 33s 70ms/step - loss: 0.0015 - val_loss: 0.0016\n",
            "Epoch 26/50\n",
            "469/469 [==============================] - 33s 71ms/step - loss: 0.0015 - val_loss: 0.0016\n",
            "Epoch 27/50\n",
            "469/469 [==============================] - 33s 71ms/step - loss: 0.0015 - val_loss: 0.0015\n",
            "Epoch 28/50\n",
            "469/469 [==============================] - 33s 71ms/step - loss: 0.0014 - val_loss: 0.0017\n",
            "Epoch 29/50\n",
            "469/469 [==============================] - 33s 70ms/step - loss: 0.0014 - val_loss: 0.0015\n",
            "Epoch 30/50\n",
            "469/469 [==============================] - 33s 70ms/step - loss: 0.0014 - val_loss: 0.0015\n",
            "Epoch 31/50\n",
            "469/469 [==============================] - 32s 69ms/step - loss: 0.0014 - val_loss: 0.0017\n",
            "Epoch 32/50\n",
            "469/469 [==============================] - 32s 68ms/step - loss: 0.0014 - val_loss: 0.0015\n",
            "Epoch 33/50\n",
            "469/469 [==============================] - 32s 68ms/step - loss: 0.0013 - val_loss: 0.0014\n",
            "Epoch 34/50\n",
            "469/469 [==============================] - 32s 69ms/step - loss: 0.0013 - val_loss: 0.0014\n",
            "Epoch 35/50\n",
            "469/469 [==============================] - 31s 67ms/step - loss: 0.0013 - val_loss: 0.0015\n",
            "Epoch 36/50\n",
            "469/469 [==============================] - 32s 69ms/step - loss: 0.0013 - val_loss: 0.0014\n",
            "Epoch 37/50\n",
            "469/469 [==============================] - 33s 70ms/step - loss: 0.0013 - val_loss: 0.0015\n",
            "Epoch 38/50\n",
            "469/469 [==============================] - 33s 69ms/step - loss: 0.0013 - val_loss: 0.0015\n",
            "Epoch 39/50\n",
            "469/469 [==============================] - 32s 68ms/step - loss: 0.0013 - val_loss: 0.0014\n",
            "Epoch 40/50\n",
            "469/469 [==============================] - 32s 68ms/step - loss: 0.0013 - val_loss: 0.0015\n",
            "Epoch 41/50\n",
            "469/469 [==============================] - 32s 68ms/step - loss: 0.0012 - val_loss: 0.0014\n",
            "Epoch 42/50\n",
            "469/469 [==============================] - 32s 68ms/step - loss: 0.0013 - val_loss: 0.0014\n",
            "Epoch 43/50\n",
            "469/469 [==============================] - 32s 68ms/step - loss: 0.0012 - val_loss: 0.0014\n",
            "Epoch 44/50\n",
            "469/469 [==============================] - 32s 69ms/step - loss: 0.0012 - val_loss: 0.0014\n",
            "Epoch 45/50\n",
            "469/469 [==============================] - 32s 68ms/step - loss: 0.0012 - val_loss: 0.0013\n",
            "Epoch 46/50\n",
            "469/469 [==============================] - 32s 68ms/step - loss: 0.0012 - val_loss: 0.0013\n",
            "Epoch 47/50\n",
            "469/469 [==============================] - 32s 68ms/step - loss: 0.0012 - val_loss: 0.0014\n",
            "Epoch 48/50\n",
            "469/469 [==============================] - 31s 66ms/step - loss: 0.0012 - val_loss: 0.0016\n",
            "Epoch 49/50\n",
            "469/469 [==============================] - 31s 66ms/step - loss: 0.0012 - val_loss: 0.0013\n",
            "Epoch 50/50\n",
            "469/469 [==============================] - 31s 67ms/step - loss: 0.0012 - val_loss: 0.0014\n"
          ]
        }
      ]
    },
    {
      "cell_type": "code",
      "source": [
        "# Evaluate the model on test data\n",
        "test_loss = autoencoder.evaluate(x_test, x_test)\n",
        "print(f\"Test Loss: {test_loss:.4f}\")"
      ],
      "metadata": {
        "id": "o8BDbMZCb9RF"
      },
      "execution_count": null,
      "outputs": []
    },
    {
      "cell_type": "code",
      "source": [
        "# Select some test images to visualize reconstruction\n",
        "num_images = 10\n",
        "random_indices = np.random.randint(x_test.shape[0], size=num_images)\n",
        "original_images = x_test[random_indices]\n",
        "\n",
        "# Predict the reconstructed images\n",
        "reconstructed_images = autoencoder.predict(original_images)\n",
        "\n",
        "# Plot original and reconstructed images side by side\n",
        "plot_reconstructed_images(original_images.reshape(-1, 28, 28), reconstructed_images.reshape(-1, 28, 28))"
      ],
      "metadata": {
        "id": "qHF3KRKnb-Nw"
      },
      "execution_count": null,
      "outputs": []
    }
  ]
}
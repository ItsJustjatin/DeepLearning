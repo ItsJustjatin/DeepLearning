{
  "nbformat": 4,
  "nbformat_minor": 0,
  "metadata": {
    "colab": {
      "provenance": []
    },
    "kernelspec": {
      "name": "python3",
      "display_name": "Python 3"
    },
    "language_info": {
      "name": "python"
    }
  },
  "cells": [
    {
      "cell_type": "code",
      "execution_count": null,
      "metadata": {
        "colab": {
          "base_uri": "https://localhost:8080/"
        },
        "id": "OY7YTs54Q-Hl",
        "outputId": "1fedef08-9f49-4f36-ddc2-7d7f6c0862c6"
      },
      "outputs": [
        {
          "output_type": "stream",
          "name": "stdout",
          "text": [
            "Drive already mounted at /content/drive; to attempt to forcibly remount, call drive.mount(\"/content/drive\", force_remount=True).\n"
          ]
        }
      ],
      "source": [
        "# Mount Google Drive\n",
        "from google.colab import drive\n",
        "drive.mount('/content/drive')\n"
      ]
    },
    {
      "cell_type": "code",
      "source": [
        "import keras\n",
        "import numpy as np\n",
        "import tensorflow as tf\n",
        "from keras.applications.resnet50 import ResNet50, preprocess_input as resnet_preprocess, decode_predictions as resnet_decode\n",
        "from tensorflow.keras.applications.inception_v3 import InceptionV3, preprocess_input as inception_preprocess, decode_predictions as inception_decode\n",
        "from tensorflow.keras.preprocessing import image\n",
        "from tensorflow.keras.layers import Dense, GlobalAveragePooling2D\n",
        "from tensorflow.keras.models import Model\n",
        "from tensorflow.keras.optimizers import Adam"
      ],
      "metadata": {
        "id": "VtS6OxCARGAW"
      },
      "execution_count": null,
      "outputs": []
    },
    {
      "cell_type": "code",
      "source": [
        "# Constants\n",
        "IMG_PATH = '/content/drive/MyDrive/FB_IMG_1651602337687.jpg'\n",
        "IMG_SIZE_RESNET = (224, 224)\n",
        "IMG_SIZE_INCEPTION = (299, 299)\n",
        "NUM_CLASSES = 10\n",
        "BATCH_SIZE = 32\n",
        "LEARNING_RATE = 0.0001\n",
        "FINE_TUNE_LR = 0.00001\n",
        "EPOCHS = 2"
      ],
      "metadata": {
        "id": "WoWIxhGVRJsU"
      },
      "execution_count": null,
      "outputs": []
    },
    {
      "cell_type": "code",
      "source": [
        "# ResNet50 Prediction Function\n",
        "def predict_resnet(img_path):\n",
        "    model = ResNet50(weights='imagenet')\n",
        "\n",
        "    img = keras.utils.load_img(img_path, target_size=IMG_SIZE_RESNET)\n",
        "    x = keras.utils.img_to_array(img)\n",
        "    x = np.expand_dims(x, axis=0)\n",
        "    x = resnet_preprocess(x)\n",
        "\n",
        "    preds = model.predict(x)\n",
        "    print('ResNet50 Predicted:', resnet_decode(preds, top=3)[0])"
      ],
      "metadata": {
        "id": "mWLuXiKsROYb"
      },
      "execution_count": null,
      "outputs": []
    },
    {
      "cell_type": "code",
      "source": [
        "# InceptionV3 Transfer Learning Function\n",
        "def apply_transfer_learning(epochs=EPOCHS, batch_size=BATCH_SIZE):\n",
        "    # Load base InceptionV3 model\n",
        "    base_model = InceptionV3(weights='imagenet', include_top=False)\n",
        "\n",
        "    # Add custom layers for CIFAR-10 classification\n",
        "    x = base_model.output\n",
        "    x = GlobalAveragePooling2D()(x)\n",
        "    x = Dense(1024, activation='relu')(x)\n",
        "    predictions = Dense(NUM_CLASSES, activation='softmax')(x)\n",
        "\n",
        "    model = Model(inputs=base_model.input, outputs=predictions)\n",
        "\n",
        "    # Load CIFAR-10 dataset\n",
        "    (x_train, y_train), (x_test, y_test) = tf.keras.datasets.cifar10.load_data()\n",
        "\n",
        "    # Resize CIFAR-10 images to 299x299 (InceptionV3 input size)\n",
        "    def resize_images(images): # This line was incorrectly indented\n",
        "        return tf.image.resize(images, IMG_SIZE_INCEPTION)\n",
        "\n",
        "    x_train = resize_images(x_train)\n",
        "    x_test = resize_images(x_test)\n",
        "\n",
        "    # Normalize data between -1 and 1\n",
        "    x_train = inception_preprocess(x_train)\n",
        "    x_test = inception_preprocess(x_test)\n",
        "\n",
        "    # Convert labels to one-hot encoding\n",
        "    y_train = tf.keras.utils.to_categorical(y_train, NUM_CLASSES)\n",
        "    y_test = tf.keras.utils.to_categorical(y_test, NUM_CLASSES)\n",
        "\n",
        "    # Convert arrays to TensorFlow datasets\n",
        "    train_dataset = tf.data.Dataset.from_tensor_slices((x_train, y_train)).batch(batch_size).shuffle(10000)\n",
        "    val_dataset = tf.data.Dataset.from_tensor_slices((x_test, y_test)).batch(batch_size)\n",
        "\n",
        "    # Freeze base model layers and compile\n",
        "    for layer in base_model.layers:\n",
        "        layer.trainable = False\n",
        "\n",
        "    model.compile(optimizer=Adam(learning_rate=LEARNING_RATE), loss='categorical_crossentropy', metrics=['accuracy'])\n",
        "\n",
        "    # Train the newly added layers\n",
        "    model.fit(train_dataset, epochs=epochs, validation_data=val_dataset)\n",
        "\n",
        "    # Unfreeze some layers for fine-tuning\n",
        "    for layer in base_model.layers[-20:]:\n",
        "        layer.trainable = True\n",
        "\n",
        "    # Recompile with lower learning rate for fine-tuning\n",
        "    model.compile(optimizer=Adam(learning_rate=FINE_TUNE_LR), loss='categorical_crossentropy', metrics=['accuracy'])\n",
        "\n",
        "    # Fine-tune the model\n",
        "    model.fit(train_dataset, epochs=epochs, validation_data=validation_dataset)\n"
      ],
      "metadata": {
        "id": "WwrKRj-rRSuh"
      },
      "execution_count": null,
      "outputs": []
    },
    {
      "cell_type": "code",
      "source": [
        "# InceptionV3 Prediction Function\n",
        "def predict_inception(img_path):\n",
        "    model = InceptionV3(weights='imagenet')\n",
        "\n",
        "    img = keras.utils.load_img(img_path, target_size=IMG_SIZE_INCEPTION)\n",
        "    x = keras.utils.img_to_array(img)\n",
        "    x = np.expand_dims(x, axis=0)\n",
        "    x = inception_preprocess(x)\n",
        "\n",
        "    preds = model.predict(x)\n",
        "    print('InceptionV3 Predicted:', inception_decode(preds, top=3)[0])"
      ],
      "metadata": {
        "id": "c01u6yo7SzoY"
      },
      "execution_count": null,
      "outputs": []
    },
    {
      "cell_type": "code",
      "source": [
        "# Main Execution\n",
        "if __name__ == \"__main__\":\n",
        "    # Predict using ResNet50\n",
        "    predict_resnet(IMG_PATH)\n",
        "\n",
        "    # Predict using InceptionV3 without transfer learning\n",
        "    predict_inception(IMG_PATH)\n",
        "\n",
        "    # Apply transfer learning on InceptionV3 for CIFAR-10\n",
        "    apply_transfer_learning()"
      ],
      "metadata": {
        "colab": {
          "base_uri": "https://localhost:8080/"
        },
        "id": "iwPd3T7dRpxv",
        "outputId": "892e3c1f-25aa-4ea6-8f42-7eebca6d5041"
      },
      "execution_count": null,
      "outputs": [
        {
          "output_type": "stream",
          "name": "stdout",
          "text": [
            "\u001b[1m1/1\u001b[0m \u001b[32m━━━━━━━━━━━━━━━━━━━━\u001b[0m\u001b[37m\u001b[0m \u001b[1m3s\u001b[0m 3s/step\n",
            "ResNet50 Predicted: [('n04355933', 'sunglass', 0.64635277), ('n04356056', 'sunglasses', 0.065014146), ('n03250847', 'drumstick', 0.055747874)]\n",
            "\u001b[1m1/1\u001b[0m \u001b[32m━━━━━━━━━━━━━━━━━━━━\u001b[0m\u001b[37m\u001b[0m \u001b[1m3s\u001b[0m 3s/step\n",
            "InceptionV3 Predicted: [('n04355933', 'sunglass', 0.5776342), ('n04356056', 'sunglasses', 0.41522706), ('n03763968', 'military_uniform', 0.0013891654)]\n"
          ]
        }
      ]
    }
  ]
}